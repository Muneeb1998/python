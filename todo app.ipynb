{
 "cells": [
  {
   "cell_type": "code",
   "execution_count": 16,
   "metadata": {},
   "outputs": [],
   "source": [
    "def add():\n",
    "    num = int(input(\"How many task you want? \"))\n",
    "    with open(\"todoapp.csv\",\"w\",newline=\"\") as app:\n",
    "        data = csv.writer(app,delimiter=\",\")\n",
    "        data.writerow([\"Task\"])\n",
    "        for i in range(0,num):\n",
    "            task=input(\"Write task: \")\n",
    "            to_do_app.append(task)\n",
    "            data.writerow(to_do_app)"
   ]
  },
  {
   "cell_type": "code",
   "execution_count": 17,
   "metadata": {},
   "outputs": [],
   "source": [
    "def remove():\n",
    "    print(to_do_app)\n",
    "    delete = int(input(\"Enter number of task you want to delete: \"))\n",
    "    with open(\"todoapp.csv\",\"w\",newline=\"\") as app:\n",
    "        data = csv.writer(app,delimiter=\",\")\n",
    "        data.writerow([\"Task\"])\n",
    "        for i in range(0,delete):\n",
    "            delete = input(\"Write task which you want to delete: \")\n",
    "            to_do_app.remove(delete)\n",
    "            data.writerow([i])\n",
    "            data.writerow(to_do_app)"
   ]
  },
  {
   "cell_type": "code",
   "execution_count": null,
   "metadata": {},
   "outputs": [
    {
     "name": "stdout",
     "output_type": "stream",
     "text": [
      "To Do App\n",
      "1.Add task\t2.Remove task\n"
     ]
    }
   ],
   "source": [
    "import csv\n",
    "to_do_app = []\n",
    "print(\"To Do App\")\n",
    "while(True):\n",
    "    print(\"1.Add task\\t2.Remove task\")\n",
    "    choice = int(input(\"Select operation: \"))\n",
    "    if choice ==1:\n",
    "        add()\n",
    "        sel=input(\"You want to continue (y/n): \")\n",
    "        if sel==\"y\":\n",
    "            continue\n",
    "        else:\n",
    "            break\n",
    "    elif choice ==2:\n",
    "        remove()\n",
    "        sel=input(\"You want to continue (y/n): \")\n",
    "        if sel==\"y\":\n",
    "            continue\n",
    "        else:\n",
    "            break\n",
    "    else:\n",
    "        print(\"Select correct option\")"
   ]
  },
  {
   "cell_type": "code",
   "execution_count": null,
   "metadata": {},
   "outputs": [],
   "source": []
  }
 ],
 "metadata": {
  "kernelspec": {
   "display_name": "Python 3",
   "language": "python",
   "name": "python3"
  },
  "language_info": {
   "codemirror_mode": {
    "name": "ipython",
    "version": 3
   },
   "file_extension": ".py",
   "mimetype": "text/x-python",
   "name": "python",
   "nbconvert_exporter": "python",
   "pygments_lexer": "ipython3",
   "version": "3.7.3"
  }
 },
 "nbformat": 4,
 "nbformat_minor": 2
}
